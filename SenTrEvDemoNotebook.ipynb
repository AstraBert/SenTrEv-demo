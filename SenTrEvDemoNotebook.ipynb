{
  "cells": [
    {
      "cell_type": "markdown",
      "metadata": {
        "colab_type": "text",
        "id": "view-in-github"
      },
      "source": [
        "<a href=\"https://colab.research.google.com/github/AstraBert/SenTrEv-demo/blob/main/SenTrEvDemoNotebook.ipynb\" target=\"_parent\"><img src=\"https://colab.research.google.com/assets/colab-badge.svg\" alt=\"Open In Colab\"/></a>"
      ]
    },
    {
      "cell_type": "markdown",
      "metadata": {
        "id": "343_9izdbe10"
      },
      "source": [
        "# SenTrEv📊\n",
        "<br>\n",
        "<div align=\"center\">\n",
        "\t<img src=\"https://raw.githubusercontent.com/AstraBert/SenTrEv/main/logo.png\" alt=\"SenTrEv logo\">\n",
        "</div>"
      ]
    },
    {
      "cell_type": "markdown",
      "metadata": {
        "id": "8AGib3QIg5pO"
      },
      "source": [
        "**Author**: Clelia (Astra Bertelli)\n",
        "\n",
        "**Date**: 01-15-2025\n",
        "\n",
        "**GitHub Repository**: https://github.com/AstraBert/SenTrEv\n",
        "\n",
        "**Demo Repository**: https://github.com/AstraBert/SenTrEv-demo\n",
        "\n",
        "**PyPi Package**: https://pypi.org/project/sentrev/\n",
        "\n",
        "**SenTrEv version**: `v1.0.1`\n",
        "\n",
        "**Notebook version**: `v0.1.0`"
      ]
    },
    {
      "cell_type": "markdown",
      "metadata": {
        "id": "s8RsrO7SbjSe"
      },
      "source": [
        "## Concepts📚\n",
        "\n",
        "![Dictionary](https://positek.net/wp-content/uploads/2013/10/shutterstock_63985306_result.png)"
      ]
    },
    {
      "cell_type": "markdown",
      "metadata": {
        "id": "3wMQpG98cKRD"
      },
      "source": [
        "### 1. Embeddings\n",
        "\n",
        "> _In [natural language processing](https://en.wikipedia.org/wiki/Natural_language_processing \"Natural language processing\"), a **word embedding** is a representation of a word. The embedding is used in [text analysis](https://en.wikipedia.org/wiki/Content_analysis \"Content analysis\"). Typically, the representation is a [real-valued](https://en.wikipedia.org/wiki/Real_number \"Real number\") vector that encodes the meaning of the word in such a way that the words that are closer in the vector space are expected to be similar in meaning._\n",
        "\n",
        "**Source**: [Wikipedia - Word embedding](https://en.wikipedia.org/wiki/Word_embedding)\n",
        "\n",
        "---\n",
        "### 2. Vector database\n",
        "\n",
        "> _\"A [Vector Database](https://qdrant.tech/qdrant-vector-database/) is a specialized system designed to efficiently handle high-dimensional vector data. It excels at indexing, querying, and retrieving this data, enabling advanced analysis and similarity searches\"._\n",
        "\n",
        "Source: [Qdrant - What is a vector database?](https://qdrant.tech/articles/what-is-a-vector-database/)\n",
        "\n",
        "---\n",
        "### 3. Sparse embeddings\n",
        "\n",
        ">_\"Sparse vectors [...] focus only on the essentials. In most sparse vectors, a large number of elements are zeros. When a feature or token is present, it’s marked—otherwise, zero. Sparse vectors, are used for **exact matching** and specific token-based identification\"._\n",
        "\n",
        "Source: [Qdrant - What is a vector database?](https://qdrant.tech/articles/what-is-a-vector-database/#1-dense-vectors)\n",
        "\n",
        "---\n",
        "### 4. Dense embeddings\n",
        "\n",
        "> _\"Dense vectors are, quite literally, dense with information. Every element in the vector contributes to the **semantic meaning**, **relationships** and **nuances** of the data. [...] Together, they convey the overall meaning of the sentence, and are better for identifying contextually similar items\"._\n",
        "\n",
        "Source: [Qdrant - What is a vector database?](https://qdrant.tech/articles/what-is-a-vector-database/#1-dense-vectors)\n",
        "\n",
        "---\n",
        "\n",
        "### 5. Retrieval\n",
        "\n",
        "> _**Information retrieval** (**IR**) in [computing](https://en.wikipedia.org/wiki/Computing \"Computing\") and [information science](https://en.wikipedia.org/wiki/Information_science \"Information science\") is the task of identifying and retrieving [information system](https://en.wikipedia.org/wiki/Information_system \"Information system\") resources that are relevant to an [information need](https://en.wikipedia.org/wiki/Information_needs \"Information needs\")_\n",
        "\n",
        "Source: [Wikipedia - Information Retrieval](https://en.wikipedia.org/wiki/Information_retrieval)"
      ]
    },
    {
      "cell_type": "markdown",
      "metadata": {
        "id": "VpH_hd97cauO"
      },
      "source": [
        "## The problem🤔\n",
        "\n",
        "![Problem](https://tse1.mm.bing.net/th?id=OIP.Jlxk2GuV8_hcloTZglA0CwHaHa&pid=Api)"
      ]
    },
    {
      "cell_type": "markdown",
      "metadata": {
        "id": "WiZbkT-pcfUc"
      },
      "source": [
        "- **Retrieval Augmented Generation** (RAG) is growing in importance\n",
        "- As of December 2024, more than **10,000 models** are available within the _sentence-transformers_ python library\n",
        "- It's not always easy to understand what's the **best embedding technique** (sparse or dense) and the **best embedding model** for our use case\n",
        "- It's often complicated to evaluate embeddings on **different data types**"
      ]
    },
    {
      "cell_type": "markdown",
      "metadata": {
        "id": "W4fsUderckK1"
      },
      "source": [
        "## SenTrEv - A potential solution✅\n",
        "\n",
        "> _**SenTrEv** (**Sen**tence **Tr**ansformers **Ev**aluator) is a python package that is aimed at running simple evaluation tests to help you choose the best embedding model for Retrieval Augmented Generation (RAG) with your text-based documents._"
      ]
    },
    {
      "cell_type": "markdown",
      "metadata": {
        "id": "SKUAvymfcsXe"
      },
      "source": [
        "## Installation⬇️"
      ]
    },
    {
      "cell_type": "code",
      "execution_count": null,
      "metadata": {
        "id": "6T36zWBrcjmD"
      },
      "outputs": [],
      "source": [
        "! python3 -m pip install sentrev"
      ]
    },
    {
      "cell_type": "markdown",
      "metadata": {
        "id": "-_3ZYOxHcwcW"
      },
      "source": [
        "## Applicability💡\n",
        "\n",
        "- Highly integrated within the **Qdrant environment**\n",
        "- **FastEmbed** sparse encoding models\n",
        "- **Sentence Transformers** dense encoding models\n",
        "- Supports most of the **text-based file formats** (.docx, .pptx, .pdf, .md, .html, .xml, .csv, .xlsx)"
      ]
    },
    {
      "cell_type": "markdown",
      "metadata": {
        "id": "U5YQCr6sc50r"
      },
      "source": [
        "## The workflow🔁\n",
        "\n",
        "<div>\n",
        "\t<img src=\"https://raw.githubusercontent.com/AstraBert/SenTrEv/main/workflow.png\" width=750 height=450 alt=\"SenTrEv workflow\">\n",
        "</div>"
      ]
    },
    {
      "cell_type": "markdown",
      "metadata": {
        "id": "DVrNsiJ_c90v"
      },
      "source": [
        "## Metrics👑\n",
        "\n",
        "![metrics](https://opensource.com/sites/default/files/lead-images/metrics_graph_stats_blue.png)\n",
        "\n",
        "### Ranking\n",
        "\n",
        "- **Success rate**: defined as the number retrieval operation in which the correct context was retrieved ranking top among all the retrieved contexts, out of the total retrieval operations\n",
        "- **Mean Reciprocal Ranking (MRR)**: MRR defines how high in ranking the correct context is placed among the retrieved results.\n",
        "\n",
        "---\n",
        "\n",
        "### Relevance\n",
        "\n",
        "- **Precision**: Number of relevant documents out of the total number of retrieved documents. .\n",
        "- **Non-Relevant Ratio**: Number of non-relevant documents out of the total number of retrieved documents\n",
        "\n",
        ">_Relevance is based on the \"page\" metadata entry: if the retrieved document comes from the same page of the query, the document is considered relevant._\n",
        "  \n",
        "---\n",
        "### Time\n",
        "\n",
        "- **Time performance**: Average duration for a retrieval operation\n",
        "\n",
        "---\n",
        "### Carbon emissions\n",
        "\n",
        "- **Carbon emissions**: Carbon emissions are calculated in gCO2eq (grams of CO2 equivalent) through the Python library [`codecarbon`](https://codecarbon.io/).\n",
        "\n",
        "![footprint](https://4.bp.blogspot.com/_bKdsX12OGu4/StySMnyHWAI/AAAAAAAACKo/W94GzkdWqu8/s400/carbon_footprint.jpg)\n",
        "\n",
        "---\n",
        "\n",
        "### CO2 equivalent?\n",
        "\n",
        "> _This simply means that there are lots of other greenhouse gases (methane, clorofluorocarbons, nitric oxide…) which all have global warming potential: despite our emissions being mainly made up by CO2, they encompass also these other gases, and it is easier for us to express everything in terms of CO2. For example: 1 kg of emitted methane can be translated into producing 25 kg of CO2e._\n",
        "\n",
        "---\n",
        "\n",
        "### How do we measure it?\n",
        "-  [`codecarbon`](https://codecarbon.io/) works with a scheduler and every 15s measures the **carbon intensity** of your running code based on the local grid (country or regional if on cloud)\n",
        "\n",
        "> _\"Carbon Intensity of the consumed electricity is calculated as a weighted average of the emissions from the different energy sources that are used to generate electricity, including fossil fuels and renewables.\"_ See [here](https://mlco2.github.io/codecarbon/methodology.html#carbon-intensity)"
      ]
    },
    {
      "cell_type": "markdown",
      "metadata": {
        "id": "KbuQcfO5dFql"
      },
      "source": [
        "## Example usage🔎\n",
        "\n",
        "![Talk is cheap](https://quotesaga.s3.amazonaws.com/quote/QS_be152af2851e4e4e8d5049b0d5cbaed9.jpg)"
      ]
    },
    {
      "cell_type": "markdown",
      "metadata": {
        "id": "3OJ_Q56xdNJf"
      },
      "source": [
        "### 1. Import necessary dependencies"
      ]
    },
    {
      "cell_type": "code",
      "execution_count": null,
      "metadata": {
        "id": "4NG_ERIFdRAk"
      },
      "outputs": [],
      "source": [
        "! python3 -m pip install sentence_transformers qdrant_client fastembed"
      ]
    },
    {
      "cell_type": "code",
      "execution_count": null,
      "metadata": {
        "id": "bGFhXyrjbdEX"
      },
      "outputs": [],
      "source": [
        "from sentence_transformers import SentenceTransformer\n",
        "from qdrant_client import QdrantClient\n",
        "from fastembed import SparseTextEmbedding\n",
        "from sentrev.evaluator import evaluate_dense_retrieval, evaluate_sparse_retrieval\n",
        "import os"
      ]
    },
    {
      "cell_type": "markdown",
      "metadata": {
        "id": "K298xvlNdX28"
      },
      "source": [
        "### 2. Prepare the embedding models"
      ]
    },
    {
      "cell_type": "code",
      "execution_count": null,
      "metadata": {
        "id": "8BxAThNEdVn9"
      },
      "outputs": [],
      "source": [
        "# Load all the dense embedding models\n",
        "dense_encoder1 = SentenceTransformer('sentence-transformers/all-mpnet-base-v2', device=\"cuda\")\n",
        "dense_encoder2 = SentenceTransformer('sentence-transformers/all-MiniLM-L12-v2', device=\"cuda\")\n",
        "dense_encoder3 = SentenceTransformer('sentence-transformers/LaBSE', device=\"cuda\")\n",
        "\n",
        "# Create a list of the dense encoders\n",
        "dense_encoders = [dense_encoder1, dense_encoder2, dense_encoder3]\n",
        "\n",
        "# Create a dictionary that maps each encoder to its name\n",
        "dense_encoder_to_names = { dense_encoder1: 'all-mpnet-base-v2', dense_encoder2: 'all-MiniLM-L12-v2', dense_encoder3: 'LaBSE'}\n",
        "\n",
        "# Load all the sparse embedding models\n",
        "sparse_encoder1 = SparseTextEmbedding(\"Qdrant/bm25\")\n",
        "sparse_encoder2 = SparseTextEmbedding(\"prithivida/Splade_PP_en_v1\")\n",
        "sparse_encoder3 = SparseTextEmbedding(\"Qdrant/bm42-all-minilm-l6-v2-attentions\")\n",
        "\n",
        "# Create a list of the sparse encoders\n",
        "sparse_encoders = [sparse_encoder1, sparse_encoder2, sparse_encoder3]\n",
        "\n",
        "# Create a dictionary that maps each sparse encoder to its name\n",
        "sparse_encoder_to_names = { sparse_encoder1: 'BM25', sparse_encoder2: 'Splade', sparse_encoder3: 'BM42'}"
      ]
    },
    {
      "cell_type": "markdown",
      "metadata": {
        "id": "V7VwDFmIdhOz"
      },
      "source": [
        "### 3. Collect data"
      ]
    },
    {
      "cell_type": "code",
      "execution_count": null,
      "metadata": {
        "id": "jF48zgYOj9c6"
      },
      "outputs": [],
      "source": [
        "! git clone https://github.com/AstraBert/SenTrEv-demo"
      ]
    },
    {
      "cell_type": "code",
      "execution_count": null,
      "metadata": {
        "id": "nY935fsHdn2w"
      },
      "outputs": [],
      "source": [
        "# Collect data\n",
        "files = [\"/content/SenTrEv-demo/data/attention_is_all_you_need.pdf\", \"/content/SenTrEv-demo/data/generative_adversarial_nets.pdf\", \"/content/SenTrEv-demo/data/narration.docx\", \"/content/SenTrEv-demo/data/call-to-action.html\", \"/content/SenTrEv-demo/data/test.xml\"]"
      ]
    },
    {
      "cell_type": "markdown",
      "metadata": {
        "id": "_HBvR6fudqI3"
      },
      "source": [
        "### 4. Create Qdrant Client\n",
        "\n",
        "**Local Qdrant instance**\n",
        "\n",
        "1. Pull and run Qdrant locally with **Docker**:\n",
        "\n",
        "```bash\n",
        "docker pull qdrant/qdrant\n",
        "docker run -p 6333:6333 -p 6334:6334 qdrant/qdrant\n",
        "```\n",
        "2. Use the python API to connect and create the client:\n",
        "\n",
        "```python\n",
        "# Create Qdrant client\n",
        "client = QdrantClient(\"http://localhost:6333\")\n",
        "```\n",
        "\n",
        "_Or_\n",
        "\n",
        "1. Use the python API to create an in-memory client:\n",
        "\n",
        "```python\n",
        "# Create Qdrant client\n",
        "client = QdrantClient(\":memory:\")\n",
        "```\n",
        "\n",
        "**On-cloud Qdrant instance**\n",
        "\n",
        "1. Use the python API to connect to the cloud with the URL and the API key of the database instance and create the client:\n",
        "\n",
        "```python\n",
        "# Create Qdrant client\n",
        "client = QdrantClient(url=\"YOUR-QDRANT-URL\", api_key=\"YOUR-API-KEY\")\n",
        "```\n"
      ]
    },
    {
      "cell_type": "code",
      "execution_count": null,
      "metadata": {
        "id": "5ZdsqIq0fe2W"
      },
      "outputs": [],
      "source": [
        "# Get your own instance up and running on https://qdrant.tech\n",
        "# Save the API key as QDRANT_API_KEY and the database URL as QDRANT_URL in Google Colab Secrets\n",
        "\n",
        "from google.colab import userdata\n",
        "api_key = userdata.get('QDRANT_API_KEY')\n",
        "db_url = userdata.get('QDRANT_URL')\n",
        "\n",
        "client = QdrantClient(url=db_url, api_key=api_key)"
      ]
    },
    {
      "cell_type": "markdown",
      "metadata": {
        "id": "86R5eCWfgTCF"
      },
      "source": [
        "### 5. Evaluate retrieval!"
      ]
    },
    {
      "cell_type": "code",
      "execution_count": null,
      "metadata": {
        "id": "K2K3XkIBgVqS"
      },
      "outputs": [],
      "source": [
        "# Define CSV path where the stats will be saved\n",
        "csv_path_dense = \"/content/SenTrEv-demo/evals/dense_stats.csv\"\n",
        "csv_path_sparse = \"/content/SenTrEv-demo/evals/sparse_stats.csv\"\n",
        "\n",
        "# Run evaluation for dense retrieval\n",
        "evaluate_dense_retrieval(files, dense_encoders, dense_encoder_to_names, client, csv_path_dense, chunking_size = 1500, text_percentage=0.3, distance=\"dot\", mrr=10, carbon_tracking=\"AUT\", plot=True)\n",
        "\n",
        "# Run evaluation for sparse retrieval\n",
        "evaluate_sparse_retrieval(files, sparse_encoders, sparse_encoder_to_names, client, csv_path_sparse, chunking_size = 1200, text_percentage=0.4, distance=\"euclid\", mrr=10, carbon_tracking=\"AUT\", plot=True)"
      ]
    },
    {
      "cell_type": "markdown",
      "metadata": {
        "id": "QSCBRHpxgZjV"
      },
      "source": [
        "### 6. Code reference\n",
        "\n",
        "Find the full code reference on [the GitHub repository](https://github.com/AstraBert/SenTrEv/blob/main/REFERENCE.md)"
      ]
    },
    {
      "cell_type": "markdown",
      "metadata": {
        "id": "5A726N4AghxE"
      },
      "source": [
        "## What to expect👀\n",
        "\n",
        "![expect](https://tse3.mm.bing.net/th?id=OIP.I6OGEoDOqBYJ78__eOMKLQHaBs&pid=Api)\n"
      ]
    },
    {
      "cell_type": "markdown",
      "metadata": {
        "id": "zhCydcWoglby"
      },
      "source": [
        "### 1. Stats in a CSV\n",
        "\n",
        "![csv_file](https://qpjsuxneowmprnoqndhu.supabase.co/storage/v1/object/public/screenshots/csvfile.png?t=2025-01-12T23%3A28%3A21.877Z)"
      ]
    },
    {
      "cell_type": "markdown",
      "metadata": {
        "id": "NUbsposJgpFt"
      },
      "source": [
        "### 2. Plots\n",
        "\n",
        "![Plots](https://qpjsuxneowmprnoqndhu.supabase.co/storage/v1/object/public/screenshots/stats_mrr.png)\n"
      ]
    },
    {
      "cell_type": "markdown",
      "metadata": {
        "id": "Z-jrO2XpgscA"
      },
      "source": [
        "## SenTrEv is in active development🚀\n",
        "\n",
        "**[Feedback](https://github.com/AstraBert/SenTrEv/discussions) and [contributions](https://github.com/AstraBert/SenTrEv/blob/main/CONTRIBUTING.md) are always welcome!**"
      ]
    },
    {
      "cell_type": "markdown",
      "metadata": {
        "id": "3d8c52s0g02w"
      },
      "source": [
        "## Thanks for the attention!🤗"
      ]
    }
  ],
  "metadata": {
    "colab": {
      "authorship_tag": "ABX9TyMAgDJwuztx6HyEcEgS2pEt",
      "include_colab_link": true,
      "provenance": []
    },
    "kernelspec": {
      "display_name": "Python 3",
      "name": "python3"
    },
    "language_info": {
      "name": "python"
    }
  },
  "nbformat": 4,
  "nbformat_minor": 0
}
